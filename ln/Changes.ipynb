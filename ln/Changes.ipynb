{
 "cells": [
  {
   "cell_type": "code",
   "execution_count": 12,
   "metadata": {},
   "outputs": [
    {
     "name": "stdout",
     "output_type": "stream",
     "text": [
      "[0.1 0.2 0.3 0.4 0.5 0.6 0.7 0.8 0.9]\n",
      "[0.1 0.2 0.3 0.4 0.5]\n",
      "[0.1 0.2 0.3 0.4 0.5 0.6 0.7 0.8 0.9 1.  1.1 1.2]\n",
      "[0.02 0.06 0.1 ]\n"
     ]
    }
   ],
   "source": [
    "import numpy as np\n",
    "Lalpha=np.arange(0.1,1,0.1)\n",
    "Lcn=np.arange(0.1,0.501,0.1)\n",
    "Lcrcn=np.arange(0.1,1.3,0.1)\n",
    "Ltaucn=np.arange(0.02,0.13,0.04)\n",
    "print(Lalpha)\n",
    "print(Lcn)\n",
    "print(Lcrcn)\n",
    "print(Ltaucn)"
   ]
  },
  {
   "cell_type": "code",
   "execution_count": 16,
   "metadata": {},
   "outputs": [
    {
     "ename": "NameError",
     "evalue": "name 'tn' is not defined",
     "output_type": "error",
     "traceback": [
      "\u001b[1;31m---------------------------------------------------------------------------\u001b[0m",
      "\u001b[1;31mNameError\u001b[0m                                 Traceback (most recent call last)",
      "\u001b[1;32m~\\AppData\\Local\\Temp/ipykernel_17256/2373083619.py\u001b[0m in \u001b[0;36m<module>\u001b[1;34m\u001b[0m\n\u001b[0;32m     58\u001b[0m                 \u001b[0mtnbnd\u001b[0m\u001b[1;33m=\u001b[0m \u001b[1;33m(\u001b[0m\u001b[1;33m(\u001b[0m\u001b[1;36m1\u001b[0m \u001b[1;33m+\u001b[0m \u001b[0ma\u001b[0m \u001b[1;33m-\u001b[0m \u001b[0mcn\u001b[0m\u001b[1;33m)\u001b[0m \u001b[1;33m*\u001b[0m\u001b[1;33m(\u001b[0m\u001b[1;36m1\u001b[0m \u001b[1;33m+\u001b[0m \u001b[1;36m3\u001b[0m\u001b[1;33m*\u001b[0m\u001b[0ma\u001b[0m \u001b[1;33m+\u001b[0m \u001b[1;36m2\u001b[0m\u001b[1;33m*\u001b[0m\u001b[0mcr\u001b[0m\u001b[1;33m)\u001b[0m \u001b[1;33m+\u001b[0m \u001b[1;36m2\u001b[0m\u001b[1;33m*\u001b[0m \u001b[1;33m(\u001b[0m\u001b[1;36m1\u001b[0m \u001b[1;33m+\u001b[0m \u001b[1;36m3\u001b[0m\u001b[1;33m*\u001b[0m\u001b[0ma\u001b[0m \u001b[1;33m+\u001b[0m \u001b[0mcr\u001b[0m\u001b[1;33m)\u001b[0m \u001b[1;33m*\u001b[0m\u001b[0mtau\u001b[0m\u001b[1;33m)\u001b[0m\u001b[1;33m/\u001b[0m\u001b[1;33m(\u001b[0m\u001b[1;36m6\u001b[0m \u001b[1;33m+\u001b[0m \u001b[1;36m18\u001b[0m\u001b[1;33m*\u001b[0m\u001b[0ma\u001b[0m \u001b[1;33m+\u001b[0m \u001b[1;36m8\u001b[0m\u001b[1;33m*\u001b[0m\u001b[0mcr\u001b[0m\u001b[1;33m)\u001b[0m\u001b[1;33m\u001b[0m\u001b[1;33m\u001b[0m\u001b[0m\n\u001b[0;32m     59\u001b[0m                 \u001b[0mtrbnd\u001b[0m\u001b[1;33m=\u001b[0m \u001b[1;33m(\u001b[0m\u001b[1;33m(\u001b[0m\u001b[1;36m1\u001b[0m \u001b[1;33m+\u001b[0m \u001b[0ma\u001b[0m \u001b[1;33m-\u001b[0m \u001b[0mcn\u001b[0m\u001b[1;33m)\u001b[0m \u001b[1;33m*\u001b[0m\u001b[1;33m(\u001b[0m\u001b[1;36m1\u001b[0m \u001b[1;33m+\u001b[0m \u001b[1;36m3\u001b[0m\u001b[1;33m*\u001b[0m\u001b[0ma\u001b[0m \u001b[1;33m+\u001b[0m \u001b[1;36m2\u001b[0m\u001b[1;33m*\u001b[0m\u001b[0mcr\u001b[0m\u001b[1;33m)\u001b[0m \u001b[1;33m+\u001b[0m \u001b[1;36m2\u001b[0m\u001b[1;33m*\u001b[0m \u001b[1;33m(\u001b[0m\u001b[1;36m1\u001b[0m \u001b[1;33m+\u001b[0m \u001b[1;36m3\u001b[0m\u001b[1;33m*\u001b[0m\u001b[0ma\u001b[0m \u001b[1;33m+\u001b[0m \u001b[0mcr\u001b[0m\u001b[1;33m)\u001b[0m \u001b[1;33m*\u001b[0m\u001b[0mtau\u001b[0m\u001b[1;33m)\u001b[0m\u001b[1;33m/\u001b[0m\u001b[1;33m(\u001b[0m\u001b[1;36m6\u001b[0m \u001b[1;33m+\u001b[0m \u001b[1;36m18\u001b[0m\u001b[1;33m*\u001b[0m\u001b[0ma\u001b[0m \u001b[1;33m+\u001b[0m \u001b[1;36m8\u001b[0m\u001b[1;33m*\u001b[0m\u001b[0mcr\u001b[0m\u001b[1;33m)\u001b[0m\u001b[1;33m\u001b[0m\u001b[1;33m\u001b[0m\u001b[0m\n\u001b[1;32m---> 60\u001b[1;33m                 \u001b[1;32mif\u001b[0m \u001b[1;33m(\u001b[0m\u001b[1;33m-\u001b[0m\u001b[0ma\u001b[0m\u001b[1;33m^\u001b[0m\u001b[1;36m2\u001b[0m\u001b[1;33m+\u001b[0m\u001b[0mcr\u001b[0m\u001b[1;33m-\u001b[0m\u001b[0mcr\u001b[0m \u001b[1;33m*\u001b[0m \u001b[1;33m(\u001b[0m\u001b[0mcn\u001b[0m\u001b[1;33m+\u001b[0m\u001b[0mtn\u001b[0m\u001b[1;33m)\u001b[0m\u001b[1;33m+\u001b[0m\u001b[0mtr\u001b[0m\u001b[1;33m+\u001b[0m\u001b[0ma\u001b[0m \u001b[1;33m*\u001b[0m \u001b[1;33m(\u001b[0m\u001b[1;36m1\u001b[0m\u001b[1;33m-\u001b[0m\u001b[1;36m2\u001b[0m\u001b[1;33m*\u001b[0m\u001b[0mcn\u001b[0m\u001b[1;33m-\u001b[0m\u001b[1;36m2\u001b[0m\u001b[1;33m*\u001b[0m\u001b[0mtn\u001b[0m\u001b[1;33m+\u001b[0m\u001b[0mtr\u001b[0m\u001b[1;33m)\u001b[0m\u001b[1;33m>\u001b[0m \u001b[1;36m0\u001b[0m\u001b[1;33m)\u001b[0m\u001b[1;33m:\u001b[0m\u001b[1;33m\u001b[0m\u001b[1;33m\u001b[0m\u001b[0m\n\u001b[0m\u001b[0;32m     61\u001b[0m                     \u001b[0mtn\u001b[0m\u001b[1;33m=\u001b[0m\u001b[0mtnint\u001b[0m\u001b[1;33m\u001b[0m\u001b[1;33m\u001b[0m\u001b[0m\n\u001b[0;32m     62\u001b[0m                     \u001b[0mtr\u001b[0m\u001b[1;33m=\u001b[0m\u001b[0mtrint\u001b[0m\u001b[1;33m\u001b[0m\u001b[1;33m\u001b[0m\u001b[0m\n",
      "\u001b[1;31mNameError\u001b[0m: name 'tn' is not defined"
     ]
    }
   ],
   "source": [
    "import pandas as pd\n",
    "import numpy as np\n",
    "a_val=[]\n",
    "cn_val=[]\n",
    "cr_val=[]\n",
    "tau_val=[]\n",
    "t_val=[]\n",
    "pn_val=[]\n",
    "pr_val=[]\n",
    "Dn_val=[]\n",
    "Dr_val=[]\n",
    "Pi_val=[]\n",
    "E_val=[]\n",
    "CS_val=[]\n",
    "W_val=[]\n",
    "Optimal=[]\n",
    "data={}\n",
    "\n",
    "def W_pint(tn,tr,a,cn,cr,tau):\n",
    "    pn=(1+cn-tn)/2\n",
    "    pr=(a^3 + 2 * cr * tr - a^2 * (1 + tr) + a * (-cr * (1 + cn + tn) + tr))/(2 * (-1 + a)* a - 2* cr)\n",
    "    Dn=1-(pn+tn-(pr+tr))/(1-a)\n",
    "    Dr=(a*(pn+tn)-(pr+tr))/(a-pow(a,2)) \n",
    "    Pi=(pn-cn)*Dn+pr*Dr-cr*pow(Dr,2)\n",
    "    E= tn*Dn+tr*Dr -tau*Dn\n",
    "    CS=pow(Dn,2)/2+a*Dn*Dr+a*pow(Dr,2)/2\n",
    "    W=E+CS\n",
    "    TempList=[]\n",
    "    TempList.extend([pn,pr,Dn,Dr,Pi,E, CS,W,tn,tr])\n",
    "    return TempList\n",
    "\n",
    "def W_pbnd(tn,tr,a,cn,cr,tau):\n",
    "    pn=(-a^2 + cn - (1 + 2* cr)*(-1 + tn) + tr + a *(4 + cn - 5 * tn + tr))/(2* (1 + 3 * a + cr))\n",
    "    pr=(a * (2 * a + cn + cr + tn) - (1 + 2 * a + cr) * tr)/(1 + 3 * a + cr)\n",
    "    Dn=1-((pn+tn)-(pr+tr))/(1-a)\n",
    "    Dr=(a*(pn+tn)-(pr+tr))/(a-pow(a,2))\n",
    "    Pi=(pn-cn)*Dn+pr*Dr-cr*pow(Dr,2)\n",
    "    E= tn*Dn+tr*Dr -tau*Dn\n",
    "    CS=pow(Dn,2)/2+a*Dn*Dr+a*pow(Dr,2)/2\n",
    "    W=E+CS\n",
    "    TempList=[]\n",
    "    TempList.extend([pn,pr,Dn,Dr,Pi,E, CS,W,tn,tr])\n",
    "    return TempList\n",
    "\n",
    "for a in Lalpha:\n",
    "    for cn in Lcn:\n",
    "          for crcn in Lcrcn:\n",
    "            cr=crcn*cn\n",
    "            for taucn in Ltaucn:\n",
    "                tau=taucn*cn\n",
    "                a_val.append(a)\n",
    "                cn_val.append(cn)\n",
    "                cr_val.append(cr)\n",
    "                tau_val.append(tau)\n",
    "                Final=[]\n",
    "                tnint= 1/3 * (1 - cn + 2*tau)\n",
    "                trint= (a *(3 *(-1 + a) *a - 2* cr* (2 + cn + tau)))/(9 *(-1 + a) * a - 12 *cr)\n",
    "                tnbnd= ((1 + a - cn) *(1 + 3*a + 2*cr) + 2* (1 + 3*a + cr) *tau)/(6 + 18*a + 8*cr)\n",
    "                trbnd= ((1 + a - cn) *(1 + 3*a + 2*cr) + 2* (1 + 3*a + cr) *tau)/(6 + 18*a + 8*cr)\n",
    "                if (-a^2+cr-cr * (cn+tn)+tr+a * (1-2*cn-2*tn+tr)> 0):\n",
    "                    tn=tnint\n",
    "                    tr=trint\n",
    "                    Final=W_pint(tn,tr,a,cn,cr,tau)\n",
    "                    Optimal.append('t_int') \n",
    "                if (-a^2+cr-cr * (cn+tn)+tr+a * (1-2*cn-2*tn+tr) <= 0):\n",
    "                    tn=tnbnd\n",
    "                    tr=trbnd\n",
    "                    Final=W_pbnd(tn,tr,a,cn,cr,tau)\n",
    "                    Optimal.append('t_bnd') \n",
    "                tn_val.append(Final[8])\n",
    "                tr_val.append(Final[9])\n",
    "                pn_val.append(Final[0])\n",
    "                pr_val.append(Final[1])\n",
    "                Dn_val.append(Final[2])\n",
    "                Dr_val.append(Final[3])\n",
    "                Pi_val.append(Final[4])\n",
    "                E_val.append(Final[5])\n",
    "                CS_val.append(Final[6])\n",
    "                W_val.append(Final[7])\n",
    "                \n",
    "                \n",
    "data['Opt']=Optimal\n",
    "data['a']=a_val\n",
    "data['cn']=cn_val\n",
    "data['cr']=cr_val\n",
    "data['tau']=tau_val\n",
    "data['tn']=tn_val\n",
    "data['tr']=tr_val\n",
    "data['pn']=pn_val\n",
    "data['pr']=pr_val\n",
    "data['Dn']=Dn_val\n",
    "data['Dr']=Dr_val\n",
    "data['Profit']=Pi_val\n",
    "data['E']=E_val\n",
    "data['CS']=CS_val\n",
    "\n",
    "frame=pd.DataFrame(data)\n",
    "frame.head()               \n"
   ]
  },
  {
   "cell_type": "code",
   "execution_count": null,
   "metadata": {},
   "outputs": [],
   "source": []
  }
 ],
 "metadata": {
  "kernelspec": {
   "display_name": "Python 3 (ipykernel)",
   "language": "python",
   "name": "python3"
  },
  "language_info": {
   "codemirror_mode": {
    "name": "ipython",
    "version": 3
   },
   "file_extension": ".py",
   "mimetype": "text/x-python",
   "name": "python",
   "nbconvert_exporter": "python",
   "pygments_lexer": "ipython3",
   "version": "3.9.7"
  }
 },
 "nbformat": 4,
 "nbformat_minor": 2
}
